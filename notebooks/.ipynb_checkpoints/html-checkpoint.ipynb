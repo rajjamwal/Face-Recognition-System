{
 "cells": [
  {
   "cell_type": "code",
   "execution_count": 1,
   "id": "4d2ca9de-8c37-410b-a7d0-a45f9da296b6",
   "metadata": {},
   "outputs": [
    {
     "name": "stdout",
     "output_type": "stream",
     "text": [
      "Overwriting templates/index.html\n"
     ]
    }
   ],
   "source": [
    "%%writefile templates/index.html\n",
    "<!DOCTYPE html>\n",
    "<html>\n",
    "<head>\n",
    "    <title>Face Verification</title>\n",
    "    <script>\n",
    "        let videoStream;\n",
    "\n",
    "        function startCamera() {\n",
    "            const video = document.getElementById(\"video\");\n",
    "            navigator.mediaDevices.getUserMedia({ video: true })\n",
    "                .then(stream => {\n",
    "                    video.srcObject = stream;\n",
    "                    videoStream = stream;\n",
    "                });\n",
    "        }\n",
    "\n",
    "        function captureImage() {\n",
    "            const canvas = document.getElementById(\"canvas\");\n",
    "            const video = document.getElementById(\"video\");\n",
    "            canvas.width = video.videoWidth;\n",
    "            canvas.height = video.videoHeight;\n",
    "            const ctx = canvas.getContext(\"2d\");\n",
    "            ctx.drawImage(video, 0, 0);\n",
    "            const dataURL = canvas.toDataURL(\"image/jpeg\");\n",
    "\n",
    "            document.getElementById(\"captured_image\").value = dataURL;\n",
    "            document.getElementById(\"form\").submit();\n",
    "        }\n",
    "    </script>\n",
    "</head>\n",
    "<body onload=\"startCamera()\">\n",
    "    <h2>🎓 Face Verification Attendance System</h2>\n",
    "\n",
    "   <form id=\"form\" method=\"POST\">\n",
    "    <video id=\"video\" autoplay playsinline width=\"300\"></video><br>\n",
    "    <canvas id=\"canvas\" style=\"display: none;\"></canvas>\n",
    "    <input type=\"hidden\" name=\"captured_image\" id=\"captured_image\">\n",
    "    <button type=\"button\" onclick=\"captureImage()\">📸 Capture & Recognize</button>\n",
    "</form>\n",
    "\n",
    "   {% if status %}\n",
    "    <h3>{{ status }}</h3>\n",
    "    {% if image_path %}\n",
    "        <img src=\"/{{ image_path }}\" alt=\"Captured Image\" width=\"200\">\n",
    "    {% endif %}\n",
    "{% endif %}\n",
    "</body>\n",
    "</html>"
   ]
  },
  {
   "cell_type": "code",
   "execution_count": null,
   "id": "7f78d507-c25c-4c7d-9264-36944f093c80",
   "metadata": {},
   "outputs": [],
   "source": []
  },
  {
   "cell_type": "code",
   "execution_count": null,
   "id": "b5afc4bc-211e-42d5-a4d2-bd5ef9072711",
   "metadata": {},
   "outputs": [],
   "source": []
  }
 ],
 "metadata": {
  "kernelspec": {
   "display_name": "Python 3 (ipykernel)",
   "language": "python",
   "name": "python3"
  },
  "language_info": {
   "codemirror_mode": {
    "name": "ipython",
    "version": 3
   },
   "file_extension": ".py",
   "mimetype": "text/x-python",
   "name": "python",
   "nbconvert_exporter": "python",
   "pygments_lexer": "ipython3",
   "version": "3.11.5"
  }
 },
 "nbformat": 4,
 "nbformat_minor": 5
}
