{
 "cells": [
  {
   "cell_type": "code",
   "execution_count": 5,
   "id": "c959a83c-f5b8-4470-86b1-3397b3f2dd79",
   "metadata": {},
   "outputs": [
    {
     "name": "stdout",
     "output_type": "stream",
     "text": [
      "Overwriting main.py\n"
     ]
    }
   ],
   "source": [
    "%%writefile main.py\n",
    "# main.py\n",
    "from flask import Flask, request, render_template\n",
    "import os\n",
    "import base64\n",
    "import cv2\n",
    "import numpy as np\n",
    "import time\n",
    "from utils import recognize_face, log_attendance, generate_database_embeddings,speak\n",
    "\n",
    "app = Flask(__name__)\n",
    "os.makedirs(\"static\", exist_ok=True)\n",
    "\n",
    "@app.route(\"/\", methods=[\"GET\", \"POST\"])\n",
    "def index():\n",
    "    status = \"\"\n",
    "    image_path = None\n",
    "\n",
    "    if request.method == \"POST\":\n",
    "        img_data = request.form[\"captured_image\"]\n",
    "\n",
    "        # Decode base64 image\n",
    "        header, encoded = img_data.split(\",\", 1)\n",
    "        image_bytes = base64.b64decode(encoded)\n",
    "        nparr = np.frombuffer(image_bytes, np.uint8)\n",
    "        img = cv2.imdecode(nparr, cv2.IMREAD_COLOR)\n",
    "\n",
    "        # Save with timestamp\n",
    "        timestamp = int(time.time())\n",
    "        filename = f\"captured_{timestamp}.jpg\"\n",
    "        filepath = os.path.join(\"static\", filename)\n",
    "        cv2.imwrite(filepath, img)\n",
    "\n",
    "        # 🔍 Recognition instead of verification\n",
    "        match, recognized_id, distance = recognize_face(filepath)\n",
    "\n",
    "        if match:\n",
    "            status = f\"✅ Recognized: {recognized_id} (distance = {distance:.4f})\"\n",
    "            log_attendance(recognized_id)\n",
    "            speak(f\"Welcome {recognized_id}\")\n",
    "        else:\n",
    "            status = f\"❌ Face not recognized (min distance = {distance:.4f})\"\n",
    "            speak(\"Face not recognized\")\n",
    "\n",
    "        image_path = f\"static/{filename}\"\n",
    "\n",
    "    return render_template(\"index.html\", status=status, image_path=image_path)\n",
    "\n",
    "if __name__ == \"__main__\":\n",
    "    if not os.path.exists(\"embeddings.pkl\"):\n",
    "        generate_database_embeddings()\n",
    "    app.run(debug=True)"
   ]
  },
  {
   "cell_type": "code",
   "execution_count": 1,
   "id": "894e23a3-13cd-4a27-83a7-1cbe2a681446",
   "metadata": {},
   "outputs": [],
   "source": [
    "\n",
    "\n"
   ]
  },
  {
   "cell_type": "code",
   "execution_count": null,
   "id": "0ff65657-5ab2-4a66-8572-8666818f8922",
   "metadata": {},
   "outputs": [],
   "source": []
  }
 ],
 "metadata": {
  "kernelspec": {
   "display_name": "Python 3 (ipykernel)",
   "language": "python",
   "name": "python3"
  },
  "language_info": {
   "codemirror_mode": {
    "name": "ipython",
    "version": 3
   },
   "file_extension": ".py",
   "mimetype": "text/x-python",
   "name": "python",
   "nbconvert_exporter": "python",
   "pygments_lexer": "ipython3",
   "version": "3.11.5"
  }
 },
 "nbformat": 4,
 "nbformat_minor": 5
}
